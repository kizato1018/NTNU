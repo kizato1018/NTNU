{
 "cells": [
  {
   "cell_type": "code",
   "execution_count": 18,
   "metadata": {},
   "outputs": [],
   "source": [
    "import cv2\n",
    "import matplotlib.pyplot as plt"
   ]
  },
  {
   "cell_type": "code",
   "execution_count": 20,
   "metadata": {},
   "outputs": [],
   "source": [
    "img = cv2.imread(\"./中文測試/Lenna.jpg\")\n",
    "img = cv2.cvtColor(img, cv2.COLOR_BGR2GRAY)\n"
   ]
  },
  {
   "cell_type": "code",
   "execution_count": 1,
   "metadata": {},
   "outputs": [
    {
     "ename": "NameError",
     "evalue": "name 'plt' is not defined",
     "output_type": "error",
     "traceback": [
      "\u001b[0;31m---------------------------------------------------------------------------\u001b[0m",
      "\u001b[0;31mNameError\u001b[0m                                 Traceback (most recent call last)",
      "\u001b[1;32m/Users/shiaojung/Desktop/program/NTNU/AIP/homework/test.ipynb Cell 4\u001b[0m line \u001b[0;36m1\n\u001b[0;32m----> <a href='vscode-notebook-cell:/Users/shiaojung/Desktop/program/NTNU/AIP/homework/test.ipynb#W2sZmlsZQ%3D%3D?line=0'>1</a>\u001b[0m plt\u001b[39m.\u001b[39mshow(img)\n",
      "\u001b[0;31mNameError\u001b[0m: name 'plt' is not defined"
     ]
    }
   ],
   "source": [
    "plt.show(img)"
   ]
  },
  {
   "cell_type": "code",
   "execution_count": null,
   "metadata": {},
   "outputs": [
    {
     "data": {
      "text/plain": [
       "True"
      ]
     },
     "execution_count": 4,
     "metadata": {},
     "output_type": "execute_result"
    }
   ],
   "source": [
    "cv2.imwrite(\"gray_Lenna.png\", img)"
   ]
  },
  {
   "cell_type": "code",
   "execution_count": 10,
   "metadata": {},
   "outputs": [
    {
     "name": "stdout",
     "output_type": "stream",
     "text": [
      "(400, 600, 4)\n"
     ]
    }
   ],
   "source": [
    "\n",
    "import numpy as np\n",
    "import cv2\n",
    "\n",
    "fname = './中文測試/gray_Lenna.png'\n",
    "fname = './中文測試/pepega.png'\n",
    "img = cv2.imdecode(np.fromfile(fname,dtype=np.uint8),-1)\n",
    "print(img.shape)\n",
    "# if img is not None:\n",
    "#     # Get the number of channels\n",
    "#     if len(img.shape) == 3\n",
    "#     num_channels = img.shape[2]  # Third dimension of the shape tuple\n",
    "\n",
    "#     if num_channels == 3:\n",
    "#         print(\"Image has 3 channels (RGB)\")\n",
    "#     elif num_channels == 4:\n",
    "#         print(\"Image has 4 channels (RGBA)\")\n",
    "#     elif num_channels == 1:\n",
    "#         print(\"Image is grayscale\")\n",
    "#     else:\n",
    "#         print(f\"Image has {num_channels} channels\")\n",
    "# else:\n",
    "#     print(\"Failed to load the image\")"
   ]
  },
  {
   "cell_type": "code",
   "execution_count": 11,
   "metadata": {},
   "outputs": [
    {
     "name": "stdout",
     "output_type": "stream",
     "text": [
      "(400, 600, 4)\n"
     ]
    }
   ],
   "source": [
    "if img is not None:\n",
    "    # Specify the rotation angle in degrees\n",
    "    angle = 180  # Example: Rotate 90 degrees\n",
    "    # print(image.shape)\n",
    "    # print(image.cols)\n",
    "    # print(image.rows)\n",
    "    # Get the image dimensions\n",
    "    height, width = img.shape[:2]\n",
    "    print(img.shape)\n",
    "\n",
    "    # Define the rotation matrix\n",
    "    rotation_matrix = cv2.getRotationMatrix2D((width / 2, height / 2), angle, 1)\n",
    "\n",
    "    # Apply the rotation to the image\n",
    "    rotated_image = cv2.warpAffine(img, rotation_matrix, (width, height))"
   ]
  }
 ],
 "metadata": {
  "kernelspec": {
   "display_name": "NTNU",
   "language": "python",
   "name": "python3"
  },
  "language_info": {
   "codemirror_mode": {
    "name": "ipython",
    "version": 3
   },
   "file_extension": ".py",
   "mimetype": "text/x-python",
   "name": "python",
   "nbconvert_exporter": "python",
   "pygments_lexer": "ipython3",
   "version": "3.11.5"
  },
  "orig_nbformat": 4
 },
 "nbformat": 4,
 "nbformat_minor": 2
}
